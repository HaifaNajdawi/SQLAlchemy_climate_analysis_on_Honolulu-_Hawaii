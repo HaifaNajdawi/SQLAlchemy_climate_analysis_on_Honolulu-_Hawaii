{
 "cells": [
  {
   "cell_type": "markdown",
   "metadata": {},
   "source": [
    "# Bonus: Temperature Analysis I"
   ]
  },
  {
   "cell_type": "code",
   "execution_count": 89,
   "metadata": {},
   "outputs": [],
   "source": [
    "import pandas as pd\n",
    "import datetime as dt"
   ]
  },
  {
   "cell_type": "code",
   "execution_count": 90,
   "metadata": {},
   "outputs": [
    {
     "output_type": "execute_result",
     "data": {
      "text/plain": [
       "       station        date  prcp  tobs\n",
       "0  USC00519397  2010-01-01  0.08    65\n",
       "1  USC00519397  2010-01-02  0.00    63\n",
       "2  USC00519397  2010-01-03  0.00    74\n",
       "3  USC00519397  2010-01-04  0.00    76\n",
       "4  USC00519397  2010-01-06   NaN    73"
      ],
      "text/html": "<div>\n<style scoped>\n    .dataframe tbody tr th:only-of-type {\n        vertical-align: middle;\n    }\n\n    .dataframe tbody tr th {\n        vertical-align: top;\n    }\n\n    .dataframe thead th {\n        text-align: right;\n    }\n</style>\n<table border=\"1\" class=\"dataframe\">\n  <thead>\n    <tr style=\"text-align: right;\">\n      <th></th>\n      <th>station</th>\n      <th>date</th>\n      <th>prcp</th>\n      <th>tobs</th>\n    </tr>\n  </thead>\n  <tbody>\n    <tr>\n      <th>0</th>\n      <td>USC00519397</td>\n      <td>2010-01-01</td>\n      <td>0.08</td>\n      <td>65</td>\n    </tr>\n    <tr>\n      <th>1</th>\n      <td>USC00519397</td>\n      <td>2010-01-02</td>\n      <td>0.00</td>\n      <td>63</td>\n    </tr>\n    <tr>\n      <th>2</th>\n      <td>USC00519397</td>\n      <td>2010-01-03</td>\n      <td>0.00</td>\n      <td>74</td>\n    </tr>\n    <tr>\n      <th>3</th>\n      <td>USC00519397</td>\n      <td>2010-01-04</td>\n      <td>0.00</td>\n      <td>76</td>\n    </tr>\n    <tr>\n      <th>4</th>\n      <td>USC00519397</td>\n      <td>2010-01-06</td>\n      <td>NaN</td>\n      <td>73</td>\n    </tr>\n  </tbody>\n</table>\n</div>"
     },
     "metadata": {},
     "execution_count": 90
    }
   ],
   "source": [
    "# \"tobs\" is \"temperature observations\"\n",
    "df = pd.read_csv('Resources/hawaii_measurements.csv')\n",
    "df.head()"
   ]
  },
  {
   "cell_type": "code",
   "execution_count": 91,
   "metadata": {},
   "outputs": [
    {
     "output_type": "stream",
     "name": "stdout",
     "text": [
      "<class 'pandas.core.frame.DataFrame'>\nRangeIndex: 19550 entries, 0 to 19549\nData columns (total 4 columns):\n #   Column   Non-Null Count  Dtype  \n---  ------   --------------  -----  \n 0   station  19550 non-null  object \n 1   date     19550 non-null  object \n 2   prcp     18103 non-null  float64\n 3   tobs     19550 non-null  int64  \ndtypes: float64(1), int64(1), object(2)\nmemory usage: 611.1+ KB\nNone\n"
     ]
    }
   ],
   "source": [
    "# Convert the date column format from string to datetime\n",
    "day=[]\n",
    "for date in df[\"date\"]:\n",
    "   day.append(dt.datetime.strptime(date, '%Y-%m-%d'))\n",
    "print(df.info())\n",
    "df[\"day\"]=day\n",
    "# df[\"date\"]=pd.to_datetime[\"date\"]"
   ]
  },
  {
   "cell_type": "code",
   "execution_count": 92,
   "metadata": {},
   "outputs": [
    {
     "output_type": "execute_result",
     "data": {
      "text/plain": [
       "           station        date  prcp  tobs        day\n",
       "0      USC00519397  2010-01-01  0.08    65 2010-01-01\n",
       "1      USC00519397  2010-01-02  0.00    63 2010-01-02\n",
       "2      USC00519397  2010-01-03  0.00    74 2010-01-03\n",
       "3      USC00519397  2010-01-04  0.00    76 2010-01-04\n",
       "4      USC00519397  2010-01-06   NaN    73 2010-01-06\n",
       "...            ...         ...   ...   ...        ...\n",
       "19545  USC00516128  2017-08-19  0.09    71 2017-08-19\n",
       "19546  USC00516128  2017-08-20   NaN    78 2017-08-20\n",
       "19547  USC00516128  2017-08-21  0.56    76 2017-08-21\n",
       "19548  USC00516128  2017-08-22  0.50    76 2017-08-22\n",
       "19549  USC00516128  2017-08-23  0.45    76 2017-08-23\n",
       "\n",
       "[19550 rows x 5 columns]"
      ],
      "text/html": "<div>\n<style scoped>\n    .dataframe tbody tr th:only-of-type {\n        vertical-align: middle;\n    }\n\n    .dataframe tbody tr th {\n        vertical-align: top;\n    }\n\n    .dataframe thead th {\n        text-align: right;\n    }\n</style>\n<table border=\"1\" class=\"dataframe\">\n  <thead>\n    <tr style=\"text-align: right;\">\n      <th></th>\n      <th>station</th>\n      <th>date</th>\n      <th>prcp</th>\n      <th>tobs</th>\n      <th>day</th>\n    </tr>\n  </thead>\n  <tbody>\n    <tr>\n      <th>0</th>\n      <td>USC00519397</td>\n      <td>2010-01-01</td>\n      <td>0.08</td>\n      <td>65</td>\n      <td>2010-01-01</td>\n    </tr>\n    <tr>\n      <th>1</th>\n      <td>USC00519397</td>\n      <td>2010-01-02</td>\n      <td>0.00</td>\n      <td>63</td>\n      <td>2010-01-02</td>\n    </tr>\n    <tr>\n      <th>2</th>\n      <td>USC00519397</td>\n      <td>2010-01-03</td>\n      <td>0.00</td>\n      <td>74</td>\n      <td>2010-01-03</td>\n    </tr>\n    <tr>\n      <th>3</th>\n      <td>USC00519397</td>\n      <td>2010-01-04</td>\n      <td>0.00</td>\n      <td>76</td>\n      <td>2010-01-04</td>\n    </tr>\n    <tr>\n      <th>4</th>\n      <td>USC00519397</td>\n      <td>2010-01-06</td>\n      <td>NaN</td>\n      <td>73</td>\n      <td>2010-01-06</td>\n    </tr>\n    <tr>\n      <th>...</th>\n      <td>...</td>\n      <td>...</td>\n      <td>...</td>\n      <td>...</td>\n      <td>...</td>\n    </tr>\n    <tr>\n      <th>19545</th>\n      <td>USC00516128</td>\n      <td>2017-08-19</td>\n      <td>0.09</td>\n      <td>71</td>\n      <td>2017-08-19</td>\n    </tr>\n    <tr>\n      <th>19546</th>\n      <td>USC00516128</td>\n      <td>2017-08-20</td>\n      <td>NaN</td>\n      <td>78</td>\n      <td>2017-08-20</td>\n    </tr>\n    <tr>\n      <th>19547</th>\n      <td>USC00516128</td>\n      <td>2017-08-21</td>\n      <td>0.56</td>\n      <td>76</td>\n      <td>2017-08-21</td>\n    </tr>\n    <tr>\n      <th>19548</th>\n      <td>USC00516128</td>\n      <td>2017-08-22</td>\n      <td>0.50</td>\n      <td>76</td>\n      <td>2017-08-22</td>\n    </tr>\n    <tr>\n      <th>19549</th>\n      <td>USC00516128</td>\n      <td>2017-08-23</td>\n      <td>0.45</td>\n      <td>76</td>\n      <td>2017-08-23</td>\n    </tr>\n  </tbody>\n</table>\n<p>19550 rows × 5 columns</p>\n</div>"
     },
     "metadata": {},
     "execution_count": 92
    }
   ],
   "source": [
    "# Set the date column as the DataFrame index\n",
    "df.set_index(\"day\")\n",
    "df"
   ]
  },
  {
   "cell_type": "code",
   "execution_count": 93,
   "metadata": {},
   "outputs": [
    {
     "output_type": "execute_result",
     "data": {
      "text/plain": [
       "           station  prcp  tobs        day\n",
       "0      USC00519397  0.08    65 2010-01-01\n",
       "1      USC00519397  0.00    63 2010-01-02\n",
       "2      USC00519397  0.00    74 2010-01-03\n",
       "3      USC00519397  0.00    76 2010-01-04\n",
       "4      USC00519397   NaN    73 2010-01-06\n",
       "...            ...   ...   ...        ...\n",
       "19545  USC00516128  0.09    71 2017-08-19\n",
       "19546  USC00516128   NaN    78 2017-08-20\n",
       "19547  USC00516128  0.56    76 2017-08-21\n",
       "19548  USC00516128  0.50    76 2017-08-22\n",
       "19549  USC00516128  0.45    76 2017-08-23\n",
       "\n",
       "[19550 rows x 4 columns]"
      ],
      "text/html": "<div>\n<style scoped>\n    .dataframe tbody tr th:only-of-type {\n        vertical-align: middle;\n    }\n\n    .dataframe tbody tr th {\n        vertical-align: top;\n    }\n\n    .dataframe thead th {\n        text-align: right;\n    }\n</style>\n<table border=\"1\" class=\"dataframe\">\n  <thead>\n    <tr style=\"text-align: right;\">\n      <th></th>\n      <th>station</th>\n      <th>prcp</th>\n      <th>tobs</th>\n      <th>day</th>\n    </tr>\n  </thead>\n  <tbody>\n    <tr>\n      <th>0</th>\n      <td>USC00519397</td>\n      <td>0.08</td>\n      <td>65</td>\n      <td>2010-01-01</td>\n    </tr>\n    <tr>\n      <th>1</th>\n      <td>USC00519397</td>\n      <td>0.00</td>\n      <td>63</td>\n      <td>2010-01-02</td>\n    </tr>\n    <tr>\n      <th>2</th>\n      <td>USC00519397</td>\n      <td>0.00</td>\n      <td>74</td>\n      <td>2010-01-03</td>\n    </tr>\n    <tr>\n      <th>3</th>\n      <td>USC00519397</td>\n      <td>0.00</td>\n      <td>76</td>\n      <td>2010-01-04</td>\n    </tr>\n    <tr>\n      <th>4</th>\n      <td>USC00519397</td>\n      <td>NaN</td>\n      <td>73</td>\n      <td>2010-01-06</td>\n    </tr>\n    <tr>\n      <th>...</th>\n      <td>...</td>\n      <td>...</td>\n      <td>...</td>\n      <td>...</td>\n    </tr>\n    <tr>\n      <th>19545</th>\n      <td>USC00516128</td>\n      <td>0.09</td>\n      <td>71</td>\n      <td>2017-08-19</td>\n    </tr>\n    <tr>\n      <th>19546</th>\n      <td>USC00516128</td>\n      <td>NaN</td>\n      <td>78</td>\n      <td>2017-08-20</td>\n    </tr>\n    <tr>\n      <th>19547</th>\n      <td>USC00516128</td>\n      <td>0.56</td>\n      <td>76</td>\n      <td>2017-08-21</td>\n    </tr>\n    <tr>\n      <th>19548</th>\n      <td>USC00516128</td>\n      <td>0.50</td>\n      <td>76</td>\n      <td>2017-08-22</td>\n    </tr>\n    <tr>\n      <th>19549</th>\n      <td>USC00516128</td>\n      <td>0.45</td>\n      <td>76</td>\n      <td>2017-08-23</td>\n    </tr>\n  </tbody>\n</table>\n<p>19550 rows × 4 columns</p>\n</div>"
     },
     "metadata": {},
     "execution_count": 93
    }
   ],
   "source": [
    "# Drop the date column\n",
    "df.drop(\"date\",axis=1)\n"
   ]
  },
  {
   "cell_type": "markdown",
   "metadata": {},
   "source": [
    "### Compare June and December data across all years "
   ]
  },
  {
   "cell_type": "code",
   "execution_count": 94,
   "metadata": {},
   "outputs": [],
   "source": [
    "from scipy import stats"
   ]
  },
  {
   "cell_type": "code",
   "execution_count": 86,
   "metadata": {},
   "outputs": [
    {
     "output_type": "stream",
     "name": "stdout",
     "text": [
      "<class 'pandas.core.frame.DataFrame'>\nDatetimeIndex: 19550 entries, 2010-01-01 to 2017-08-23\nData columns (total 4 columns):\n #   Column   Non-Null Count  Dtype  \n---  ------   --------------  -----  \n 0   station  19550 non-null  object \n 1   date     19550 non-null  object \n 2   prcp     18103 non-null  float64\n 3   tobs     19550 non-null  int64  \ndtypes: float64(1), int64(1), object(2)\nmemory usage: 763.7+ KB\nNone\n"
     ]
    }
   ],
   "source": []
  },
  {
   "cell_type": "code",
   "execution_count": 95,
   "metadata": {},
   "outputs": [],
   "source": [
    "# Filter data for desired months\n",
    "june=df[df[\"day\"].dt.month == 6]\n",
    "dec=df[df[\"day\"].dt.month == 12]\n"
   ]
  },
  {
   "cell_type": "code",
   "execution_count": 96,
   "metadata": {},
   "outputs": [
    {
     "output_type": "execute_result",
     "data": {
      "text/plain": [
       "74.94411764705882"
      ]
     },
     "metadata": {},
     "execution_count": 96
    }
   ],
   "source": [
    "# Identify the average temperature for June\n",
    "avg_june=june.tobs.mean()\n",
    "avg_june"
   ]
  },
  {
   "cell_type": "code",
   "execution_count": 97,
   "metadata": {},
   "outputs": [
    {
     "output_type": "execute_result",
     "data": {
      "text/plain": [
       "71.04152933421226"
      ]
     },
     "metadata": {},
     "execution_count": 97
    }
   ],
   "source": [
    "# Identify the average temperature for December\n",
    "avg_dec=dec.tobs.mean()\n",
    "avg_dec"
   ]
  },
  {
   "source": [
    "# Create collections of temperature data"
   ],
   "cell_type": "code",
   "metadata": {},
   "execution_count": null,
   "outputs": []
  },
  {
   "source": [
    "<b>We will use paired t-test because we compaire the means for the same group under two separate scenarios</b>"
   ],
   "cell_type": "markdown",
   "metadata": {}
  },
  {
   "cell_type": "code",
   "execution_count": 104,
   "metadata": {},
   "outputs": [
    {
     "output_type": "execute_result",
     "data": {
      "text/plain": [
       "Ttest_relResult(statistic=nan, pvalue=nan)"
      ]
     },
     "metadata": {},
     "execution_count": 104
    }
   ],
   "source": [
    "# Run paired t-test\n",
    "t_test=stats.ttest_rel(avg_june,avg_dec)\n",
    "t_test"
   ]
  },
  {
   "cell_type": "markdown",
   "metadata": {},
   "source": [
    "### Analysis"
   ]
  },
  {
   "cell_type": "code",
   "execution_count": null,
   "metadata": {},
   "outputs": [],
   "source": []
  }
 ],
 "metadata": {
  "kernelspec": {
   "display_name": "Python 3",
   "language": "python",
   "name": "python3"
  },
  "language_info": {
   "codemirror_mode": {
    "name": "ipython",
    "version": 3
   },
   "file_extension": ".py",
   "mimetype": "text/x-python",
   "name": "python",
   "nbconvert_exporter": "python",
   "pygments_lexer": "ipython3",
   "version": "3.7.6-final"
  }
 },
 "nbformat": 4,
 "nbformat_minor": 4
}